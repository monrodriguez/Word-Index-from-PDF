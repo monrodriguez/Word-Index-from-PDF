{
 "cells": [
  {
   "cell_type": "code",
   "execution_count": 3,
   "metadata": {},
   "outputs": [],
   "source": [
    "import PyPDF2\n",
    "#following: https://www.codespeedy.com/find-the-page-number-of-a-text-from-a-pdf-file-in-python/\n",
    "import re\n",
    "import pandas as pd\n",
    "#also: pip install openpyxl"
   ]
  },
  {
   "cell_type": "code",
   "execution_count": 6,
   "metadata": {},
   "outputs": [],
   "source": [
    "\n",
    "file=\"Maintext.pdf\"\n",
    "folder=\"XXXXXXX/\"\n",
    "file2=\"listofwords.xlsx\""
   ]
  },
  {
   "cell_type": "code",
   "execution_count": null,
   "metadata": {},
   "outputs": [],
   "source": [
    "listdf=pd.read_excel(folder+file2, header=None)\n",
    "listdf"
   ]
  },
  {
   "cell_type": "code",
   "execution_count": null,
   "metadata": {},
   "outputs": [],
   "source": [
    "list=listdf[0].tolist()\n",
    "list"
   ]
  },
  {
   "cell_type": "code",
   "execution_count": null,
   "metadata": {},
   "outputs": [],
   "source": [
    "\n",
    "obj = PyPDF2.PdfFileReader(r\"PATH/TODOCUMENT.pdf\")\n",
    "pgno = obj.getNumPages()"
   ]
  },
  {
   "cell_type": "code",
   "execution_count": null,
   "metadata": {},
   "outputs": [],
   "source": [
    "#add the difference in value (pagedifference), here. Also consider pages might start numbering later in the pdf (pagecountstart).\n",
    "#check the original pdf and note these values (for later)\n",
    "pagedifference=1\n",
    "pagecountstart=20\n",
    "#pagecountend=400\n",
    "#also filter bibliography pages\n",
    "\n",
    "#check original pdf and manually list bibliography pages\n",
    "bibliographies=[8,9,10,11,21,22,31,38,44,45,53,54,64,65,73,74,84,92,93,103,115,125,126, 134, 142, 143, 151, 161, 162, 175, 183, 194, 195, 196, 203, 204, 215, 216, 224, 225, 235, 236, 245, 246, 247, 254, 255, 269, 270, 280, 298, 299, 300, 301, 308, 317, 318, 328, 338, 348]"
   ]
  },
  {
   "cell_type": "code",
   "execution_count": null,
   "metadata": {},
   "outputs": [],
   "source": [
    "indexss=[]\n",
    "\n",
    "for i in range(0, pgno):\n",
    "    for s in list:\n",
    "        PgOb = obj.getPage(i)\n",
    "        Text = PgOb.extractText()\n",
    "        if re.search(s,Text, re.IGNORECASE):\n",
    "            indexss.append(str(s)+' === is on page /// '+ str(i))\n",
    "            print(len(indexss))\n",
    "            print(\"String \" + str(s) + \" Found on Page: \" + str(i))\n",
    "\n",
    "#it takes a while 85 minutes for 400 pages of pdf text and 650 words to index  "
   ]
  },
  {
   "cell_type": "code",
   "execution_count": null,
   "metadata": {},
   "outputs": [],
   "source": [
    "#check that it worked -it is a list \n",
    "indexss"
   ]
  },
  {
   "cell_type": "markdown",
   "metadata": {},
   "source": [
    "Turn the list into dataframe (split string to columns)"
   ]
  },
  {
   "cell_type": "code",
   "execution_count": null,
   "metadata": {},
   "outputs": [],
   "source": [
    "indexdf = pd.DataFrame (indexss, columns = ['All'], index=[0])\n",
    "indexdf"
   ]
  },
  {
   "cell_type": "code",
   "execution_count": null,
   "metadata": {},
   "outputs": [],
   "source": [
    "indexdf = indexdf.drop_duplicates()"
   ]
  },
  {
   "cell_type": "code",
   "execution_count": 13,
   "metadata": {},
   "outputs": [],
   "source": [
    "indexdf=indexdf['All'].str.split('///', expand=True)\n"
   ]
  },
  {
   "cell_type": "code",
   "execution_count": 14,
   "metadata": {},
   "outputs": [],
   "source": [
    "#make a dirty safety copy to clean\n",
    "indexdf.to_csv(folder+\"indexdirty.csv\", encoding='utf-8')"
   ]
  },
  {
   "cell_type": "code",
   "execution_count": 15,
   "metadata": {},
   "outputs": [],
   "source": [
    "indexdf=indexdf.rename(columns={0:\"wordAnd more\",1: \"pagenumber\"}, errors=\"raise\")"
   ]
  },
  {
   "cell_type": "code",
   "execution_count": 17,
   "metadata": {},
   "outputs": [],
   "source": [
    "indexdf[['word', 'rest']]=indexdf['wordAnd more'].str.split(\"===\", expand=True)"
   ]
  },
  {
   "cell_type": "code",
   "execution_count": 38,
   "metadata": {},
   "outputs": [],
   "source": [
    "indexdf['row_num'] = indexdf.reset_index().index"
   ]
  },
  {
   "cell_type": "code",
   "execution_count": 19,
   "metadata": {},
   "outputs": [],
   "source": [
    "indexdf=indexdf.drop(['wordAnd more', 'rest'], axis=1)"
   ]
  },
  {
   "cell_type": "code",
   "execution_count": null,
   "metadata": {},
   "outputs": [],
   "source": [
    "#check the shape of the dataframe\n",
    "indexdf"
   ]
  },
  {
   "cell_type": "code",
   "execution_count": null,
   "metadata": {},
   "outputs": [],
   "source": [
    "#add the difference in value, here: (in this case it was +1). \n",
    "# Also consider pages below 20 are numbered differently.\n",
    "#remember values before pagecountstart should not be included \n",
    "\n",
    "indexdf['pagenumber']=indexdf['pagenumber'].astype('int')\n",
    "indexdf['pagenumber']=indexdf['pagenumber']+int(pagedifference)\n",
    "indexdf['pagenumber']=indexdf['pagenumber']-int(pagecountstart)\n",
    "indexdf.loc[(indexdf.pagenumber < 0),'pagenumber']=-1\n",
    "for b in bibliographies:\n",
    "    indexdf.loc[(indexdf.pagenumber == b),'pagenumber']=-100\n",
    "indexdf"
   ]
  },
  {
   "cell_type": "code",
   "execution_count": null,
   "metadata": {},
   "outputs": [],
   "source": [
    "\n",
    "indexdf.pagenumber.astype('str')\n",
    "indexdf.loc[(indexdf.pagenumber == -1), 'pagenumber']='prologue'\n",
    "indexdf.loc[(indexdf.pagenumber == -100),'pagenumber']='bibliography'\n"
   ]
  },
  {
   "cell_type": "markdown",
   "metadata": {},
   "source": [
    "Arrange the dataframe"
   ]
  },
  {
   "cell_type": "code",
   "execution_count": 69,
   "metadata": {},
   "outputs": [],
   "source": [
    "indexdf=(indexdf.groupby(['word'])\n",
    "      .agg({'pagenumber': lambda x: x.tolist()})\n",
    "      .reset_index())\n",
    "indexdf"
   ]
  },
  {
   "cell_type": "code",
   "execution_count": null,
   "metadata": {},
   "outputs": [],
   "source": [
    "#two options: either making lists into str. and cleaning characters... it works better if you have integers and text in the pagenumbers   \n",
    "indexdf['pagenumber']=indexdf.pagenumber.astype('str')\n",
    "indexdf['pagenumber'] = indexdf['pagenumber'].str[:-1]\n",
    "indexdf['pagenumber'] = indexdf['pagenumber'].str[1:]\n",
    "indexdf"
   ]
  },
  {
   "cell_type": "code",
   "execution_count": 80,
   "metadata": {},
   "outputs": [],
   "source": [
    "#...or joining the lists into strings (it works better if all page numbers are integers) \n",
    "indexdf['pages']=indexdf.pagenumber.apply(lambda x: ', '.join(x))\n",
    "indexfinal=indexdf.drop(['pagenumber'], axis=1)\n",
    "indexfinal"
   ]
  },
  {
   "cell_type": "code",
   "execution_count": null,
   "metadata": {},
   "outputs": [],
   "source": [
    "#save final\n",
    "#for first option\n",
    "indexdf.to_csv(folder+cleanindex1.csv, encoding='utf-8')\n",
    "#for second option\n",
    "indexfinal.to_csv(folder+'cleanindex2.csv', encoding='utf-8')"
   ]
  }
 ],
 "metadata": {
  "kernelspec": {
   "display_name": "Python 3.8.6 64-bit",
   "language": "python",
   "name": "python3"
  },
  "language_info": {
   "codemirror_mode": {
    "name": "ipython",
    "version": 3
   },
   "file_extension": ".py",
   "mimetype": "text/x-python",
   "name": "python",
   "nbconvert_exporter": "python",
   "pygments_lexer": "ipython3",
   "version": "3.8.6"
  },
  "orig_nbformat": 4,
  "vscode": {
   "interpreter": {
    "hash": "110707b9d723e1c444c54a483b1f1584fb109b164cd3977d8615832db624a1d7"
   }
  }
 },
 "nbformat": 4,
 "nbformat_minor": 2
}
